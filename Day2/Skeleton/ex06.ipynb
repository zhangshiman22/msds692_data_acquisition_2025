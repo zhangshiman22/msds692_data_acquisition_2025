{
 "cells": [
  {
   "cell_type": "markdown",
   "id": "5b8bf4ed",
   "metadata": {},
   "source": [
    "Read .xslx file using pandas"
   ]
  },
  {
   "cell_type": "code",
   "execution_count": null,
   "id": "1809ca4a",
   "metadata": {},
   "outputs": [],
   "source": [
    "import pandas as pd\n",
    "\n",
    "file_path = \"../../Data/2020-09-11_microparticledata.xlsx\"\n"
   ]
  },
  {
   "cell_type": "markdown",
   "id": "123f764a",
   "metadata": {},
   "source": [
    "Example 6. Read .xlsx's `fish` sheet from the URL"
   ]
  },
  {
   "cell_type": "code",
   "execution_count": 1,
   "id": "daaca6cf",
   "metadata": {},
   "outputs": [],
   "source": [
    "import requests\n",
    "import io\n",
    "\n",
    "url = 'https://data.cnra.ca.gov/dataset/78ac95ac-9665-4e53-aea6-ad0762055cce/resource/4e6aaf6f-7055-484b-84f4-3a66df294f27/download/2020-09-11_microparticledata.xlsx'\n"
   ]
  },
  {
   "cell_type": "code",
   "execution_count": null,
   "id": "bea3185c",
   "metadata": {},
   "outputs": [],
   "source": []
  }
 ],
 "metadata": {
  "kernelspec": {
   "display_name": "msds692",
   "language": "python",
   "name": "python3"
  },
  "language_info": {
   "codemirror_mode": {
    "name": "ipython",
    "version": 3
   },
   "file_extension": ".py",
   "mimetype": "text/x-python",
   "name": "python",
   "nbconvert_exporter": "python",
   "pygments_lexer": "ipython3",
   "version": "3.13.5"
  }
 },
 "nbformat": 4,
 "nbformat_minor": 5
}
