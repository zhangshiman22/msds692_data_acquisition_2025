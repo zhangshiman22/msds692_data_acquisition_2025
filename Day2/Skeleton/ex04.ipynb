{
 "cells": [
  {
   "cell_type": "markdown",
   "id": "ec4bfbcb",
   "metadata": {},
   "source": [
    "## Reading PDFs"
   ]
  },
  {
   "cell_type": "code",
   "execution_count": 1,
   "id": "eadf4cfd",
   "metadata": {},
   "outputs": [
    {
     "name": "stderr",
     "output_type": "stream",
     "text": [
      "/opt/homebrew/anaconda3/envs/msds692/lib/python3.13/site-packages/pypdf/_crypt_providers/_cryptography.py:32: CryptographyDeprecationWarning: ARC4 has been moved to cryptography.hazmat.decrepit.ciphers.algorithms.ARC4 and will be removed from cryptography.hazmat.primitives.ciphers.algorithms in 48.0.0.\n",
      "  from cryptography.hazmat.primitives.ciphers.algorithms import AES, ARC4\n"
     ]
    }
   ],
   "source": [
    "from pypdf import PdfReader"
   ]
  },
  {
   "cell_type": "code",
   "execution_count": 1,
   "id": "508b7499",
   "metadata": {},
   "outputs": [],
   "source": [
    "# Reading from the local path.\n",
    "\n",
    "file_path = \"../../Data/microplastic-levels-in-sf-bay-final-report.pdf\"\n"
   ]
  },
  {
   "cell_type": "code",
   "execution_count": 2,
   "id": "211544a9",
   "metadata": {},
   "outputs": [],
   "source": [
    "# Reading from the web.\n",
    "from io import BytesIO\n",
    "import requests\n",
    "\n",
    "url = 'https://data.cnra.ca.gov/dataset/78ac95ac-9665-4e53-aea6-ad0762055cce/resource/7247f0f6-915f-47fb-a9a2-81789cf40b37/download/microplastic-levels-in-sf-bay-final-report.pdf'"
   ]
  },
  {
   "cell_type": "markdown",
   "id": "0b84c440",
   "metadata": {},
   "source": [
    "Ex 4. Return a list of dictionary of `{page_number: text}` all the pages including `anchovies`"
   ]
  },
  {
   "cell_type": "code",
   "execution_count": null,
   "id": "7706f0a3",
   "metadata": {},
   "outputs": [],
   "source": [
    "from pypdf import PdfReader\n",
    "\n",
    "url = 'https://data.cnra.ca.gov/dataset/78ac95ac-9665-4e53-aea6-ad0762055cce/resource/7247f0f6-915f-47fb-a9a2-81789cf40b37/download/microplastic-levels-in-sf-bay-final-report.pdf'\n",
    "key_word = 'anchovies'\n"
   ]
  },
  {
   "cell_type": "code",
   "execution_count": null,
   "id": "6a6024f1",
   "metadata": {},
   "outputs": [],
   "source": []
  }
 ],
 "metadata": {
  "kernelspec": {
   "display_name": "msds692",
   "language": "python",
   "name": "python3"
  },
  "language_info": {
   "codemirror_mode": {
    "name": "ipython",
    "version": 3
   },
   "file_extension": ".py",
   "mimetype": "text/x-python",
   "name": "python",
   "nbconvert_exporter": "python",
   "pygments_lexer": "ipython3",
   "version": "3.13.5"
  }
 },
 "nbformat": 4,
 "nbformat_minor": 5
}
