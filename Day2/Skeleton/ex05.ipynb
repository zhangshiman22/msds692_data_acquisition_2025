{
 "cells": [
  {
   "cell_type": "markdown",
   "id": "a79f4a6a",
   "metadata": {},
   "source": [
    "## Reading .docx"
   ]
  },
  {
   "cell_type": "code",
   "execution_count": 5,
   "id": "22ac8aae",
   "metadata": {},
   "outputs": [],
   "source": [
    "from docx import Document"
   ]
  },
  {
   "cell_type": "markdown",
   "id": "1cf19cd4",
   "metadata": {},
   "source": [
    "Local File"
   ]
  },
  {
   "cell_type": "code",
   "execution_count": 6,
   "id": "9845affc",
   "metadata": {},
   "outputs": [],
   "source": [
    "file_path = \"../../Data/DWH_SEAMAP_Groundfish_Dataset_Documentation.docx\""
   ]
  },
  {
   "cell_type": "markdown",
   "id": "e84bae4a",
   "metadata": {},
   "source": [
    "- For Text"
   ]
  },
  {
   "cell_type": "code",
   "execution_count": null,
   "id": "af3c1fe9",
   "metadata": {},
   "outputs": [],
   "source": []
  },
  {
   "cell_type": "markdown",
   "id": "1aaec505",
   "metadata": {},
   "source": [
    "- For Tables"
   ]
  },
  {
   "cell_type": "code",
   "execution_count": null,
   "id": "40692055",
   "metadata": {},
   "outputs": [],
   "source": []
  },
  {
   "cell_type": "markdown",
   "id": "f4485cd3",
   "metadata": {},
   "source": [
    "Example 5.\n",
    "Load from a .docx located at `url`, read text paragraphs and tables"
   ]
  },
  {
   "cell_type": "code",
   "execution_count": null,
   "id": "fcb66ab0",
   "metadata": {},
   "outputs": [],
   "source": [
    "from io import BytesIO\n",
    "import requests\n",
    "\n",
    "url = 'https://www.nodc.noaa.gov/archive/arc0090/0150631/1.1/data/0-data/DWH%20SEAMAP%20Groundfish%20Dataset%20Documentation.docx'\n"
   ]
  },
  {
   "cell_type": "code",
   "execution_count": null,
   "id": "0e1b19eb",
   "metadata": {},
   "outputs": [],
   "source": []
  }
 ],
 "metadata": {
  "kernelspec": {
   "display_name": "msds692",
   "language": "python",
   "name": "python3"
  },
  "language_info": {
   "codemirror_mode": {
    "name": "ipython",
    "version": 3
   },
   "file_extension": ".py",
   "mimetype": "text/x-python",
   "name": "python",
   "nbconvert_exporter": "python",
   "pygments_lexer": "ipython3",
   "version": "3.13.5"
  }
 },
 "nbformat": 4,
 "nbformat_minor": 5
}
