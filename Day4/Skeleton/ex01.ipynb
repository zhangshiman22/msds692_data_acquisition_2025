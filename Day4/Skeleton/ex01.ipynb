{
 "cells": [
  {
   "cell_type": "markdown",
   "id": "abcff18a",
   "metadata": {},
   "source": [
    "Using the DATA_GOV_API_KEY, retrieve data from `https://data.sfgov.org/resource/wg3w-h783`, SF Police Department Report Data.\n",
    "\n",
    "complete store_to_gcs() to store retrieved data to GCS, and retrieve_data_from_gcs() to retrieve data from GCS.\n",
    "- store_to_gcs(service_account_key, project_id, bucket_name, file_name, data) : upload data as file_name on the given gcs.\n",
    "- retrieve_data_from_gcs(service_account_key, project_id, bucket_name, file_name, key_list) : return a list of list which includes values corresponding to keys in key_list.\n",
    "If \n",
    "```\n",
    "key_list = ['incident_datetime', 'report_datetime', 'incident_code',\n",
    "            'incident_category', 'incident_description', 'latitude',\n",
    "            'longitude', 'police_district']\n",
    "```\n",
    "This should return\n",
    "```\n",
    "[['2025-08-26T23:17:00.000',\n",
    "  '2025-08-26T23:17:00.000',\n",
    "  '07041',\n",
    "  'Recovered Vehicle',\n",
    "  'Vehicle, Recovered, Auto',\n",
    "  None,\n",
    "  None,\n",
    "  'Out of SF'],\n",
    " ['2025-08-27T00:37:00.000',\n",
    "  '2025-08-27T00:37:00.000',\n",
    "  '04134',\n",
    "  'Assault',\n",
    "  'Battery',\n",
    "  '37.78041458129883',\n",
    "  '-122.44901275634766',\n",
    "  'Park'],....]\n",
    "```\n",
    "If a key doesn't exist, its value should be `None`"
   ]
  },
  {
   "cell_type": "code",
   "execution_count": null,
   "id": "58311aac",
   "metadata": {},
   "outputs": [],
   "source": [
    "import datetime\n",
    "import json\n",
    "import os \n",
    "\n",
    "from dotenv import load_dotenv\n",
    "from google.oauth2 import service_account\n",
    "from google.cloud import storage\n",
    "import requests"
   ]
  },
  {
   "cell_type": "code",
   "execution_count": null,
   "id": "d4beeb07",
   "metadata": {},
   "outputs": [],
   "source": [
    "load_dotenv()\n",
    "\n",
    "api_key = os.getenv(\"DATA_GOV_API_KEY\")"
   ]
  },
  {
   "cell_type": "markdown",
   "id": "b776af2c",
   "metadata": {},
   "source": [
    "- Typically authorization in a header uses the format of..\n",
    "```\n",
    "headers = {\"Authorization\": f\"Bearer {api_key}\", \"Content-Type\": \"application/json\"}\n",
    "```\n",
    "However, based on the [documentaiton](https://api.data.gov/docs/developer-manual/), I followed the following format.\n",
    "\n",
    "Also, the data specific meta data and details can be searchable. (Ex.[link](https://data.sfgov.org/Public-Safety/Police-Department-Incident-Reports-2018-to-Present/wg3w-h783/about_data))"
   ]
  },
  {
   "cell_type": "code",
   "execution_count": null,
   "id": "6e1407e7",
   "metadata": {},
   "outputs": [],
   "source": [
    "url = 'https://data.sfgov.org/resource/wg3w-h783'\n",
    "header = \n",
    "\n",
    "response = requests.get(url, headers=header)"
   ]
  },
  {
   "cell_type": "code",
   "execution_count": 5,
   "id": "7be9a22f",
   "metadata": {},
   "outputs": [],
   "source": [
    "data = response.json()"
   ]
  },
  {
   "cell_type": "markdown",
   "id": "b86a1d10",
   "metadata": {},
   "source": [
    "Create store_to_gcs(service_account_key, project_id, bucket_name, file_name, data) which upload data as file_name on the given gcs."
   ]
  },
  {
   "cell_type": "code",
   "execution_count": null,
   "id": "95acd0d5",
   "metadata": {},
   "outputs": [],
   "source": [
    "def store_to_gcs(service_account_key: str,\n",
    "                 project_id: str,\n",
    "                 bucket_name: str,\n",
    "                 file_name: str,\n",
    "                 data: str) -> None:    \n",
    "    "
   ]
  },
  {
   "cell_type": "code",
   "execution_count": null,
   "id": "dff2cf2b",
   "metadata": {},
   "outputs": [],
   "source": [
    "service_account_key = os.getenv(\"GCP_SERVICE_ACCOUNT_KEY\")\n",
    "project_id = os.getenv(\"GCP_PROJECT_ID\")\n",
    "bucket_name = os.getenv(\"GCP_BUCKET_NAME\")\n",
    "file_name = f\"sf_police_report/{datetime.date.today()}.json\"\n",
    "store_to_gcs(service_account_key,\n",
    "            project_id,\n",
    "            bucket_name,\n",
    "            file_name,\n",
    "            json.dumps(data, indent=4))"
   ]
  },
  {
   "cell_type": "markdown",
   "id": "86b73733",
   "metadata": {},
   "source": [
    "Complete retrieve_data_from_gcs() to return a list of list which includes values corresponding to keys in key_list.\n",
    "If \n",
    "```\n",
    "key_list = ['incident_datetime', 'report_datetime', 'incident_code',\n",
    "            'incident_category', 'incident_description', 'latitude',\n",
    "            'longitude', 'police_district']\n",
    "```\n",
    "This should return\n",
    "```\n",
    "[['2025-08-26T23:17:00.000',\n",
    "  '2025-08-26T23:17:00.000',\n",
    "  '07041',\n",
    "  'Recovered Vehicle',\n",
    "  'Vehicle, Recovered, Auto',\n",
    "  None,\n",
    "  None,\n",
    "  'Out of SF'],\n",
    " ['2025-08-27T00:37:00.000',\n",
    "  '2025-08-27T00:37:00.000',\n",
    "  '04134',\n",
    "  'Assault',\n",
    "  'Battery',\n",
    "  '37.78041458129883',\n",
    "  '-122.44901275634766',\n",
    "  'Park'],....]\n",
    "```\n",
    "If a key doesn't exist, its value should be `None`"
   ]
  },
  {
   "cell_type": "code",
   "execution_count": null,
   "id": "6e81f1ec",
   "metadata": {},
   "outputs": [],
   "source": [
    "def retrieve_data_from_gcs(service_account_key: str,\n",
    "                           project_id: str,\n",
    "                           bucket_name: str,\n",
    "                           file_name: str,\n",
    "                           key_list: list\n",
    "                           ) -> list:\n",
    "    "
   ]
  },
  {
   "cell_type": "code",
   "execution_count": 26,
   "id": "c34885d5",
   "metadata": {},
   "outputs": [],
   "source": [
    "key_list = ['incident_datetime', 'report_datetime', 'incident_code',\n",
    "            'incident_category', 'incident_description', 'latitude',\n",
    "            'longitude', 'police_district']\n",
    "data = retrieve_data_from_gcs(service_account_key, \n",
    "                              project_id,\n",
    "                              bucket_name,\n",
    "                              f\"sf_police_report/{datetime.date.today()}.json\",\n",
    "                              key_list)"
   ]
  },
  {
   "cell_type": "code",
   "execution_count": 28,
   "id": "59ee1084",
   "metadata": {},
   "outputs": [
    {
     "data": {
      "text/plain": [
       "[['2025-08-26T23:17:00.000',\n",
       "  '2025-08-26T23:17:00.000',\n",
       "  '07041',\n",
       "  'Recovered Vehicle',\n",
       "  'Vehicle, Recovered, Auto',\n",
       "  None,\n",
       "  None,\n",
       "  'Out of SF'],\n",
       " ['2025-08-27T00:37:00.000',\n",
       "  '2025-08-27T00:37:00.000',\n",
       "  '04134',\n",
       "  'Assault',\n",
       "  'Battery',\n",
       "  '37.78041458129883',\n",
       "  '-122.44901275634766',\n",
       "  'Park'],\n",
       " ['2025-07-17T15:00:00.000',\n",
       "  '2025-08-27T11:55:00.000',\n",
       "  '09027',\n",
       "  'Fraud',\n",
       "  'False Personation',\n",
       "  '37.775177001953125',\n",
       "  '-122.45135498046875',\n",
       "  'Park'],\n",
       " ['2025-08-23T21:30:00.000',\n",
       "  '2025-08-24T14:53:00.000',\n",
       "  '06244',\n",
       "  'Larceny Theft',\n",
       "  'Theft, From Locked Vehicle, >$950',\n",
       "  '37.77455139160156',\n",
       "  '-122.42250061035156',\n",
       "  'Northern'],\n",
       " ['2025-08-15T12:00:00.000',\n",
       "  '2025-08-24T19:10:00.000',\n",
       "  '71000',\n",
       "  'Lost Property',\n",
       "  'Lost Property',\n",
       "  '37.76966094970703',\n",
       "  '-122.44964599609375',\n",
       "  'Park'],\n",
       " ['2025-08-15T21:45:00.000',\n",
       "  '2025-08-16T10:39:00.000',\n",
       "  '07026',\n",
       "  'Motor Vehicle Theft',\n",
       "  'Vehicle, Stolen, Other Vehicle',\n",
       "  '37.77157211303711',\n",
       "  '-122.44218444824219',\n",
       "  'Park']]"
      ]
     },
     "execution_count": 28,
     "metadata": {},
     "output_type": "execute_result"
    }
   ],
   "source": [
    "data[:6]"
   ]
  },
  {
   "cell_type": "code",
   "execution_count": null,
   "id": "2c0d0065",
   "metadata": {},
   "outputs": [],
   "source": []
  }
 ],
 "metadata": {
  "kernelspec": {
   "display_name": "msds692",
   "language": "python",
   "name": "python3"
  },
  "language_info": {
   "codemirror_mode": {
    "name": "ipython",
    "version": 3
   },
   "file_extension": ".py",
   "mimetype": "text/x-python",
   "name": "python",
   "nbconvert_exporter": "python",
   "pygments_lexer": "ipython3",
   "version": "3.13.5"
  }
 },
 "nbformat": 4,
 "nbformat_minor": 5
}
