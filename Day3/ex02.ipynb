{
 "cells": [
  {
   "cell_type": "markdown",
   "id": "12b4825f",
   "metadata": {},
   "source": [
    "Create a pickle object of a list including 100 random integers and store it to `GCP_BUCKET_NAME` on `GCP_PROJECT_ID` as \"ex02.pickle\".\n",
    "The bucket requires an authentification, and you can use a service account key (`GCP_SERVICE_ACCOUNT_KEY`)"
   ]
  },
  {
   "cell_type": "code",
   "execution_count": null,
   "id": "e78ed29d",
   "metadata": {},
   "outputs": [],
   "source": [
    "import pickle\n",
    "import os\n",
    "import random\n",
    "\n",
    "from dotenv import load_dotenv\n",
    "from google.oauth2 import service_account\n",
    "from google.cloud import storage"
   ]
  },
  {
   "cell_type": "code",
   "execution_count": null,
   "id": "c467ce47",
   "metadata": {},
   "outputs": [],
   "source": [
    "data = [random.randint(0, 100) for i in range(100)]\n",
    "pickle_str = pickle.dumps(data)"
   ]
  },
  {
   "cell_type": "code",
   "execution_count": 3,
   "id": "c6237113",
   "metadata": {},
   "outputs": [],
   "source": [
    "# Load environment variables from .env file\n",
    "load_dotenv()\n",
    "\n",
    "# Access the variables using os.getenv()\n",
    "service_account_key = os.getenv(\"GCP_SERVICE_ACCOUNT_KEY\")\n",
    "project_id = os.getenv(\"GCP_PROJECT_ID\")\n",
    "bucket_name = os.getenv(\"GCP_BUCKET_NAME\")\n",
    "file_name = \"ex02.pickle\""
   ]
  },
  {
   "cell_type": "code",
   "execution_count": 4,
   "id": "68202a38",
   "metadata": {},
   "outputs": [],
   "source": [
    "credentials = service_account.Credentials.from_service_account_file(service_account_key)\n",
    "# Create a client  to bundle configuration needed for API requests.\n",
    "client = storage.Client(project=project_id,\n",
    "                        credentials=credentials)\n",
    "# Access a bucket \n",
    "bucket = client.bucket(bucket_name)\n",
    "# Access an object (blob) in a bucket\n",
    "file = bucket.blob(file_name)\n",
    "# Upload\n",
    "data = file.upload_from_string(pickle_str)"
   ]
  },
  {
   "cell_type": "code",
   "execution_count": null,
   "id": "6d7878c6",
   "metadata": {},
   "outputs": [],
   "source": []
  }
 ],
 "metadata": {
  "kernelspec": {
   "display_name": "msds692",
   "language": "python",
   "name": "python3"
  },
  "language_info": {
   "codemirror_mode": {
    "name": "ipython",
    "version": 3
   },
   "file_extension": ".py",
   "mimetype": "text/x-python",
   "name": "python",
   "nbconvert_exporter": "python",
   "pygments_lexer": "ipython3",
   "version": "3.13.5"
  }
 },
 "nbformat": 4,
 "nbformat_minor": 5
}
